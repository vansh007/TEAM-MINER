{
 "cells": [
  {
   "cell_type": "code",
   "execution_count": 1,
   "metadata": {
    "collapsed": false
   },
   "outputs": [
    {
     "name": "stdout",
     "output_type": "stream",
     "text": [
      "Preprocessing completed.\n"
     ]
    }
   ],
   "source": [
    "import csv\n",
    "import numpy\n",
    "import random\n",
    "\n",
    "class Preprocess(object):\n",
    "    \n",
    "    def __init__(self):        \n",
    "        trainingDataCSVName = \"data/actual_data.csv\"\n",
    "        cleanedDataCSVName = \"data/preprocessed_data.csv\"\n",
    "        columnTypesCSVName = \"data/column_types.csv\"\n",
    "        numericalAttributes = []\n",
    "        with open(columnTypesCSVName, \"r\") as f:\n",
    "            csvReader = csv.reader(f)\n",
    "            for row in csvReader:\n",
    "                if row[0] == \"Numerical\":\n",
    "                    numericalAttributes.append(int(row[1]))\n",
    "\n",
    "        if 1 in numericalAttributes:\n",
    "            numericalAttributes.remove(1)\n",
    "        if 0 in numericalAttributes:\n",
    "            numericalAttributes.remove(0)\n",
    "        \n",
    "        numericalAttributes.append(1)\n",
    "\n",
    "        data = numpy.loadtxt(trainingDataCSVName , delimiter=',', usecols=numericalAttributes, dtype=int, skiprows=1)\n",
    "\n",
    "        cleanedData = numpy.zeros(shape=data.shape, dtype = int)\n",
    "        self.mapData(data, cleanedData)\n",
    "\n",
    "        numpy.savetxt(cleanedDataCSVName , cleanedData, delimiter=\",\", fmt=\"%d\")\n",
    "\n",
    "    def clearData(self, number, sequence):\n",
    "        array = number * [len(sequence) / number]\n",
    "        k = len(sequence) - sum(array)\n",
    "        while k > 0:\n",
    "            array[k - 1] = array[k - 1] + 1\n",
    "            k = k - 1\n",
    "        array = [i for i in array if i > 0]\n",
    "        array = [0] + array\n",
    "        for i in range(1, len(array)):\n",
    "            array[i] = array[i] + array[i - 1]\n",
    "        out = []\n",
    "        for i in range(0, len(array) - 1):\n",
    "            out.append(sequence[array[i]:array[i + 1]])\n",
    "\n",
    "        dict = {}\n",
    "        for part in range(len(out)):\n",
    "            for point in out[part]:\n",
    "                dict[point] = part\n",
    "        return dict\n",
    "\n",
    "    def mapData(self, trainingData, cleanedData):\n",
    "        rows, columns = trainingData.shape\n",
    "        mapDictionary = {}\n",
    "\n",
    "        i = 0\n",
    "        while i < columns:\n",
    "            values = list(set(trainingData[:,[i]].reshape(-1,)))\n",
    "            values.sort()\n",
    "            mapDictionary[i] = self.clearData(10 ,values)\n",
    "            i = i + 1\n",
    "\n",
    "        i = 0\n",
    "        while i < rows:\n",
    "            j=0\n",
    "            while j < columns:\n",
    "                cleanedData[i][j] = mapDictionary[j][trainingData[i][j]]\n",
    "                j = j + 1\n",
    "            i = i + 1\n",
    "\n",
    "if __name__ == \"__main__\":\n",
    "    preprocessor = Preprocess()\n",
    "    print \"Preprocessing completed.\"\n"
   ]
  },
  {
   "cell_type": "code",
   "execution_count": null,
   "metadata": {
    "collapsed": true
   },
   "outputs": [],
   "source": []
  }
 ],
 "metadata": {
  "kernelspec": {
   "display_name": "Python 2",
   "language": "python",
   "name": "python2"
  },
  "language_info": {
   "codemirror_mode": {
    "name": "ipython",
    "version": 2
   },
   "file_extension": ".py",
   "mimetype": "text/x-python",
   "name": "python",
   "nbconvert_exporter": "python",
   "pygments_lexer": "ipython2",
   "version": "2.7.12"
  }
 },
 "nbformat": 4,
 "nbformat_minor": 0
}
