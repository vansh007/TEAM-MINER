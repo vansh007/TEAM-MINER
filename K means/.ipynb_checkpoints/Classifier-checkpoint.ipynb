{
 "cells": [
  {
   "cell_type": "code",
   "execution_count": 2,
   "metadata": {
    "collapsed": true
   },
   "outputs": [],
   "source": [
    "from sklearn import cluster\n",
    "import numpy as np\n",
    "from scipy.stats import mode\n",
    "from scipy.spatial.distance import euclidean\n",
    "\n",
    "\n",
    "class Classifier(object):\n",
    "\n",
    "    @staticmethod\n",
    "    def proba(centroids, points):\n",
    "        results = np.zeros(shape=(len(points),2), dtype=float)\n",
    "        for i in range(len(points)):\n",
    "            for centroid in centroids:\n",
    "                results[i][centroid[1]] += euclidean(points[i], centroid[0])\n",
    "        results /= results.sum(axis=1).reshape(results.shape[0], 1)\n",
    "        return results\n",
    "\n",
    "    @staticmethod\n",
    "    def confidence_table(train_data, train_class, test_data):\n",
    "        # set number of clusters\n",
    "        clusters_count = 25\n",
    "\n",
    "        # train\n",
    "        k_means = cluster.KMeans(n_clusters=2)\n",
    "        k_means.fit(train_data)\n",
    "\n",
    "        # find out points in each cluster\n",
    "        Kclusters = k_means.labels_\n",
    "        centroids = []\n",
    "        cluster_indices = []\n",
    "        for j in range(clusters_count):\n",
    "            indices = [i for i in range(len(train_data)) if Kclusters[i] == j]\n",
    "            if indices:\n",
    "                centroids.append([train_data[indices,:].mean(axis=0), mode(train_class[indices])[0][0]])\n",
    "\n",
    "        return Classifier.proba(centroids, test_data)"
   ]
  },
  {
   "cell_type": "code",
   "execution_count": null,
   "metadata": {
    "collapsed": true
   },
   "outputs": [],
   "source": []
  }
 ],
 "metadata": {
  "kernelspec": {
   "display_name": "Python 2",
   "language": "python",
   "name": "python2"
  },
  "language_info": {
   "codemirror_mode": {
    "name": "ipython",
    "version": 2
   },
   "file_extension": ".py",
   "mimetype": "text/x-python",
   "name": "python",
   "nbconvert_exporter": "python",
   "pygments_lexer": "ipython2",
   "version": "2.7.12"
  }
 },
 "nbformat": 4,
 "nbformat_minor": 0
}
