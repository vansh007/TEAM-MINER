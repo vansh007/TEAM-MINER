{
 "cells": [
  {
   "cell_type": "code",
   "execution_count": null,
   "metadata": {
    "collapsed": false
   },
   "outputs": [
    {
     "name": "stdout",
     "output_type": "stream",
     "text": [
      "For K =  3\n",
      "Starting for 7290\n",
      "Process completed for simple sampling with replacement\n",
      "Process completed for simple sampling without replacement\n",
      "Starting for 14309\n",
      "Process completed for simple sampling with replacement\n"
     ]
    }
   ],
   "source": [
    "import numpy\n",
    "import random\n",
    "from time import time\n",
    "from sklearn.cross_validation import KFold\n",
    "from sklearn import svm\n",
    "from scipy.spatial.distance import euclidean\n",
    "\n",
    "class OutputGen(object):\n",
    "\n",
    "    def calculateAccuracy(self, samplingMethod, samplingType, count, k, data):\n",
    "        finalAccuracy = 0\n",
    "        startTime = time()\n",
    "        kf = KFold(count, n_folds=k, shuffle=True)\n",
    "        for train, test in kf:\n",
    "            confidenceTable = self.getConfidenceTable(data[train,:], data[test,:], k)\n",
    "            output, accuracy = self.getAccuracy(data[test,:], confidenceTable)\n",
    "            with open(\"output/%s_%s_%s_%s.csv\" % (samplingMethod, samplingType, count, k), \"a\") as f:\n",
    "                numpy.savetxt(f, numpy.hstack([output, confidenceTable]))\n",
    "            finalAccuracy += accuracy\n",
    "        finalAccuracy /= k\n",
    "        totalTime = time() - startTime\n",
    "        with open(\"output/accuracy.csv\", \"a\") as f:           \n",
    "            f.write(\"%s, %s, %s, %s, %s, %s, %s\\n\" % (\"SVM\", samplingMethod, samplingType, count, k, finalAccuracy, totalTime))\n",
    "\n",
    "    def getConfidenceTable(self, training, testing, k):\n",
    "        trainingData = training[:,range(training.shape[1] - 1)]\n",
    "        trainingClass = training[:, [(training.shape[1]-1)]].reshape(-1,)\n",
    "        testingData = testing[:,range(testing.shape[1] - 1)]\n",
    "        \n",
    "        \n",
    "        model = svm.SVC(probability=True, kernel = 'linear')\n",
    "        model.fit(trainingData, trainingClass)\n",
    "        return model.predict_proba(testingData)\n",
    "    \n",
    "    #Calculate accuracy based on confidence table\n",
    "    def getAccuracy(self, test, confidenceTable):\n",
    "        outputs = numpy.array(zip([1 if ct[1] > ct[0] else 0 for ct in confidenceTable], test[:, [(test.shape[1]-1)]].reshape(-1,)))\n",
    "        correctCount = 0\n",
    "        for output in outputs:\n",
    "            if output[0] == output[1]:\n",
    "                correctCount += 1\n",
    "        return outputs, float(correctCount)/float(len(outputs))\n",
    "    \n",
    "if __name__ == \"__main__\":\n",
    "    preprocessedData = numpy.loadtxt(\"data/preprocessed_data.csv\", delimiter=',', dtype=int)\n",
    "    classifier = OutputGen()\n",
    "    ks = [3,5]\n",
    "    for k in ks:\n",
    "        print \"For K = \", k\n",
    "        with open(\"input.txt\", \"r\") as f:\n",
    "            for inputLine in f:\n",
    "                inputLine = inputLine.rstrip()\n",
    "                if inputLine:\n",
    "                    #Read each line in input file\n",
    "                    size = int(inputLine)\n",
    "                    print \"Starting for\", size\n",
    "                    \n",
    "                    # Sampling Type : Simple without replacements\n",
    "                    #select random data points without replacement\n",
    "                    randomDataPoints = random.sample(range(preprocessedData.shape[0]), size)\n",
    "                    #Get preprocessed data for selected random data points\n",
    "                    preprocessedRandomData = preprocessedData[randomDataPoints,:]\n",
    "                    #Calculate the accuracy for the selected random data\n",
    "                    classifier.calculateAccuracy(\"simple\",\"withoutReplacement\", size, k, preprocessedRandomData)\n",
    "                    print \"Process completed for simple sampling with replacement\"\n",
    "                    \n",
    "                    # Sampling Type : Simple with replacements\n",
    "                    #select random data points with replacement\n",
    "                    randomDataPoints = [random.randint(0, size-1) for _ in range(size)]\n",
    "                    #Get preprocessed data for selected random data points\n",
    "                    preprocessedRandomData = preprocessedData[randomDataPoints,:]\n",
    "                    #Calculate the accuracy for the selected random data\n",
    "                    classifier.calculateAccuracy(\"simple\",\"withReplacemnt\", size, k, preprocessedRandomData)                    \n",
    "                    print \"Process completed for simple sampling without replacement\""
   ]
  },
  {
   "cell_type": "code",
   "execution_count": null,
   "metadata": {
    "collapsed": true
   },
   "outputs": [],
   "source": []
  },
  {
   "cell_type": "code",
   "execution_count": null,
   "metadata": {
    "collapsed": true
   },
   "outputs": [],
   "source": []
  }
 ],
 "metadata": {
  "kernelspec": {
   "display_name": "Python 2",
   "language": "python",
   "name": "python2"
  },
  "language_info": {
   "codemirror_mode": {
    "name": "ipython",
    "version": 2
   },
   "file_extension": ".py",
   "mimetype": "text/x-python",
   "name": "python",
   "nbconvert_exporter": "python",
   "pygments_lexer": "ipython2",
   "version": "2.7.12"
  }
 },
 "nbformat": 4,
 "nbformat_minor": 0
}
